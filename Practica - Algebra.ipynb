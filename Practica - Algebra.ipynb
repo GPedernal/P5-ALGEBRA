{
 "cells": [
  {
   "cell_type": "markdown",
   "metadata": {},
   "source": [
    "# 1. Suma y producto escalar combinados\n",
    "\n",
    "<span style=\"color:blue\">Ejercicio: Usando los procedimientos add y mult_vector_escalar definidos anteriormente, calcular:   \n",
    "{$\\alpha$[1,2]+[3,4] : $\\alpha$$\\in$$\\mathbb{R}$, 0$\\leq$$\\alpha$$\\leq$1, con una precision de dos decimales}</style>"
   ]
  },
  {
   "cell_type": "code",
   "execution_count": 1,
   "metadata": {
    "collapsed": true
   },
   "outputs": [],
   "source": [
    "def add(v,w):\n",
    "    return [v[0]+w[0],v[1]+w[1]]"
   ]
  },
  {
   "cell_type": "code",
   "execution_count": 2,
   "metadata": {
    "collapsed": true
   },
   "outputs": [],
   "source": [
    "def mult_vector_escalar(alpha,v):\n",
    "    return [alpha*v[i] for i in range(len(v))]"
   ]
  },
  {
   "cell_type": "code",
   "execution_count": 3,
   "metadata": {
    "collapsed": true
   },
   "outputs": [],
   "source": [
    "List = [mult_vector_escalar(alpha/100.,[1,2]) for alpha in range(101)]"
   ]
  },
  {
   "cell_type": "code",
   "execution_count": 4,
   "metadata": {},
   "outputs": [
    {
     "name": "stdout",
     "output_type": "stream",
     "text": [
      "[3.0, 4.0]\n",
      "[3.01, 4.02]\n",
      "[3.02, 4.04]\n",
      "[3.03, 4.06]\n",
      "[3.04, 4.08]\n",
      "[3.05, 4.1]\n",
      "[3.06, 4.12]\n",
      "[3.07, 4.14]\n",
      "[3.08, 4.16]\n",
      "[3.09, 4.18]\n",
      "[3.1, 4.2]\n",
      "[3.11, 4.22]\n",
      "[3.12, 4.24]\n",
      "[3.13, 4.26]\n",
      "[3.14, 4.28]\n",
      "[3.15, 4.3]\n",
      "[3.16, 4.32]\n",
      "[3.17, 4.34]\n",
      "[3.18, 4.36]\n",
      "[3.19, 4.38]\n",
      "[3.2, 4.4]\n",
      "[3.21, 4.42]\n",
      "[3.22, 4.44]\n",
      "[3.23, 4.46]\n",
      "[3.24, 4.48]\n",
      "[3.25, 4.5]\n",
      "[3.26, 4.52]\n",
      "[3.27, 4.54]\n",
      "[3.2800000000000002, 4.5600000000000005]\n",
      "[3.29, 4.58]\n",
      "[3.3, 4.6]\n",
      "[3.31, 4.62]\n",
      "[3.32, 4.64]\n",
      "[3.33, 4.66]\n",
      "[3.34, 4.68]\n",
      "[3.35, 4.7]\n",
      "[3.36, 4.72]\n",
      "[3.37, 4.74]\n",
      "[3.38, 4.76]\n",
      "[3.39, 4.78]\n",
      "[3.4, 4.8]\n",
      "[3.41, 4.82]\n",
      "[3.42, 4.84]\n",
      "[3.43, 4.86]\n",
      "[3.44, 4.88]\n",
      "[3.45, 4.9]\n",
      "[3.46, 4.92]\n",
      "[3.4699999999999998, 4.9399999999999995]\n",
      "[3.48, 4.96]\n",
      "[3.49, 4.98]\n",
      "[3.5, 5.0]\n",
      "[3.51, 5.02]\n",
      "[3.52, 5.04]\n",
      "[3.5300000000000002, 5.0600000000000005]\n",
      "[3.54, 5.08]\n",
      "[3.55, 5.1]\n",
      "[3.56, 5.12]\n",
      "[3.57, 5.14]\n",
      "[3.58, 5.16]\n",
      "[3.59, 5.18]\n",
      "[3.6, 5.2]\n",
      "[3.61, 5.22]\n",
      "[3.62, 5.24]\n",
      "[3.63, 5.26]\n",
      "[3.64, 5.28]\n",
      "[3.65, 5.3]\n",
      "[3.66, 5.32]\n",
      "[3.67, 5.34]\n",
      "[3.68, 5.36]\n",
      "[3.69, 5.38]\n",
      "[3.7, 5.4]\n",
      "[3.71, 5.42]\n",
      "[3.7199999999999998, 5.4399999999999995]\n",
      "[3.73, 5.46]\n",
      "[3.74, 5.48]\n",
      "[3.75, 5.5]\n",
      "[3.76, 5.52]\n",
      "[3.77, 5.54]\n",
      "[3.7800000000000002, 5.5600000000000005]\n",
      "[3.79, 5.58]\n",
      "[3.8, 5.6]\n",
      "[3.81, 5.62]\n",
      "[3.82, 5.64]\n",
      "[3.83, 5.66]\n",
      "[3.84, 5.68]\n",
      "[3.85, 5.7]\n",
      "[3.86, 5.72]\n",
      "[3.87, 5.74]\n",
      "[3.88, 5.76]\n",
      "[3.89, 5.78]\n",
      "[3.9, 5.8]\n",
      "[3.91, 5.82]\n",
      "[3.92, 5.84]\n",
      "[3.93, 5.86]\n",
      "[3.94, 5.88]\n",
      "[3.95, 5.9]\n",
      "[3.96, 5.92]\n",
      "[3.9699999999999998, 5.9399999999999995]\n",
      "[3.98, 5.96]\n",
      "[3.99, 5.98]\n",
      "[4.0, 6.0]\n"
     ]
    }
   ],
   "source": [
    "for v in List:\n",
    "    print(add(v,[3,4]))\n",
    "   "
   ]
  },
  {
   "cell_type": "markdown",
   "metadata": {},
   "source": [
    "# 2. El secreto perfecto\n",
    "\n",
    "Reprenta la encriptación de la adicción de un n-vector a un n-vector de GF(2)  \n",
    "\n",
    "![No se puede mostrar](https://www.salvat.com/colecciones/mortadelo-y-filemon/res/img/detalles-characters.png)\n",
    "\n",
    "<span style=\"color:orange\">Ejemplo: Mortadelo y Filemón usan como clave el siguiente vector:</style>  \n",
    "> <span style=\"color:orange\">**k**=[0,1,0,0,1,0,1,0,1,0]</style>  \n",
    "\n",
    "<span style=\"color:orange\">Mortadelo quiere enviarle a Filemón el siguiente mensaje:</style>  \n",
    "> <span style=\"color:orange\">**p**=[0,0,0,1,1,1,0,1,0,1]</style>  \n",
    "\n",
    "<span style=\"color:orange\">Mortadelo encripta su mensaje añadiendo k:</style>  \n",
    "> <span style=\"color:orange\">**c**=**p**+**k**=[0,0,0,1,1,1,0,1,0,1]+[0,1,0,0,1,0,1,0,1,0]=[0,1,0,1,0,1,1,1,1,1]</style>  \n",
    "\n",
    "<span style=\"color:orange\">Cuando Filemón recibe el mensaje, lo desencripta añadiendo **k** a lo que ha recibido</style>  \n",
    "> <span style=\"color:orange\">**p**=**c**+**k**=[0,1,0,1,0,1,1,1,1,1]+[0,1,0,0,1,0,1,0,1,0]=[0,0,0,1,1,1,0,1,0,1]</style>    \n",
    "\n",
    "<span style=\"color:orange\">que es el mensaje original</style>    \n",
    "  \n",
    " <span style=\"color:blue\">Ejercicio: ¿Cómo lo harías en Python? (Definiendo un procedimiento)</style>  "
   ]
  },
  {
   "cell_type": "code",
   "execution_count": 5,
   "metadata": {
    "collapsed": true
   },
   "outputs": [],
   "source": [
    "def addGF2 (u,v):\n",
    "    answer = [0]*(len(u))\n",
    "    for i in range(len(u)):\n",
    "        if u[i] > 1 or v[i] >1: \n",
    "            print(\"Los vectores no pertenecen a GF2\")\n",
    "            break\n",
    "        elif u[i] < 0 or v[i] < 0:\n",
    "            print(\"Los vectores no pertenecen a GF2\")\n",
    "            break\n",
    "        elif len(u)!=len(v):\n",
    "            print (\"Los vectores no tienen la misma dimension\")\n",
    "            break\n",
    "        else:\n",
    "            if u[i] == v[i]:  \n",
    "                answer[i] = 0\n",
    "            else:\n",
    "                answer[i] = 1\n",
    "    return answer\n",
    "            "
   ]
  },
  {
   "cell_type": "code",
   "execution_count": 6,
   "metadata": {},
   "outputs": [
    {
     "data": {
      "text/plain": [
       "[0, 1, 0, 1, 0, 1, 1, 1, 1, 1]"
      ]
     },
     "execution_count": 6,
     "metadata": {},
     "output_type": "execute_result"
    }
   ],
   "source": [
    "k=[0,1,0,0,1,0,1,0,1,0]\n",
    "p=[0,0,0,1,1,1,0,1,0,1]\n",
    "\n",
    "c= addGF2(p,k)\n",
    "c"
   ]
  },
  {
   "cell_type": "code",
   "execution_count": 7,
   "metadata": {},
   "outputs": [
    {
     "name": "stdout",
     "output_type": "stream",
     "text": [
      "La suma de c y k sera: [0, 0, 0, 1, 1, 1, 0, 1, 0, 1] que es igual a p=[0, 0, 0, 1, 1, 1, 0, 1, 0, 1]\n"
     ]
    }
   ],
   "source": [
    "print(\"La suma de c y k sera: \"+str(addGF2(c,k))+\" que es igual a p=\"+str(p))"
   ]
  },
  {
   "cell_type": "markdown",
   "metadata": {
    "collapsed": true
   },
   "source": [
    "# 3. Ejercicio: coste total o beneficio\n",
    "\n",
    "![No se puede mostrar](https://maltosaa.com.mx/wp-content/uploads/bigstock-Beer-Glass-And-Hops-593384301.jpg)\n",
    "\n",
    "<span style=\"color:blue\">Supongamos que D es el conjunto de algunos ingredientes de la cerveza: </style>\n",
    "> <span style=\"color:blue\">D={lúpulo, malta, agua, levadura}</style>  \n",
    "\n",
    "<span style=\"color:blue\">Por otro lado tenemos el vector coste:</style>  \n",
    "> <span style=\"color:blue\">coste={lúpulo: 2,5€, malta: 1.5€, agua: 0.006€, levadura: 0,45€}</style>  \n",
    "\n",
    "<span style=\"color:blue\">Por último tenemos el vector cantidad con lo necesario para hacer una cerveza:</style>  \n",
    "> <span style=\"color:blue\">cantidad={lúpulo: 6u, malta: 14u, agua: 7u, levadura: 11u}</style>  \n",
    "\n",
    "<span style=\"color:blue\">¿Cuánto cuesta hacer una cerveza?</style> "
   ]
  },
  {
   "cell_type": "code",
   "execution_count": 8,
   "metadata": {
    "collapsed": true
   },
   "outputs": [],
   "source": [
    "def producto_vectorial(u,v):\n",
    "    return sum(u[i]*v[i] for i in range(len(u)))"
   ]
  },
  {
   "cell_type": "code",
   "execution_count": 9,
   "metadata": {},
   "outputs": [
    {
     "data": {
      "text/plain": [
       "40.99"
      ]
     },
     "execution_count": 9,
     "metadata": {},
     "output_type": "execute_result"
    }
   ],
   "source": [
    "round(producto_vectorial([2.5,1.5,0.006,0.45],[6,14,7,11]),2)"
   ]
  },
  {
   "cell_type": "markdown",
   "metadata": {},
   "source": [
    "# 4.Ejercicio:  \n",
    "<span style=\"color:blue\">¿Cómo escribirías cada uno de los vectores {[3,0,0],[0,2,0],[0,0,1]} como combinación lineal de {[2,0,1],[1,0,2],[2,2,2]}?\n",
    "Escribe las combinaciones lineales en Python. Seguramente tenga que definir una nueva suma.</style>  "
   ]
  },
  {
   "cell_type": "code",
   "execution_count": 10,
   "metadata": {
    "collapsed": true
   },
   "outputs": [],
   "source": [
    "def addn3(v,w,z):\n",
    "    return[v[i]+w[i]+z[i] for i in range(len(v))]"
   ]
  },
  {
   "cell_type": "code",
   "execution_count": 11,
   "metadata": {
    "collapsed": true
   },
   "outputs": [],
   "source": [
    "def mult_vector_escalar(alpha,v):\n",
    "    return [alpha*v[i] for i in range(len(v))]"
   ]
  },
  {
   "cell_type": "code",
   "execution_count": 12,
   "metadata": {},
   "outputs": [
    {
     "name": "stdout",
     "output_type": "stream",
     "text": [
      "[3,0,0] = 2*[2,0,1] - 1*[1,0,2] = [3, 0, 0]\n"
     ]
    }
   ],
   "source": [
    "print(\"[3,0,0] = 2*[2,0,1] - 1*[1,0,2] = \"\n",
    "      +str(addn3(mult_vector_escalar(2,[2,0,1]),\n",
    "                 mult_vector_escalar(-1,[1,0,2]),\n",
    "                 mult_vector_escalar(0,[2,2,2]))))"
   ]
  },
  {
   "cell_type": "code",
   "execution_count": 13,
   "metadata": {},
   "outputs": [
    {
     "name": "stdout",
     "output_type": "stream",
     "text": [
      "[0,2,0] = -2/3*[2,0,1] - 2/3*[1,0,2] + 1*[2,2,2] = [0.0, 2.0, 0.0]\n"
     ]
    }
   ],
   "source": [
    "print(\"[0,2,0] = -2/3*[2,0,1] - 2/3*[1,0,2] + 1*[2,2,2] = \"\n",
    "      +str(addn3(mult_vector_escalar((-2/3.),[2,0,1]),\n",
    "                 mult_vector_escalar((-2/3.),[1,0,2]),\n",
    "                 mult_vector_escalar(1,[2,2,2]))))"
   ]
  },
  {
   "cell_type": "code",
   "execution_count": 14,
   "metadata": {},
   "outputs": [
    {
     "name": "stdout",
     "output_type": "stream",
     "text": [
      "[0,0,1] = -1/3*[2,0,1] + 2/3*[1,0,2] = [0.0, 0.0, 1.0]\n"
     ]
    }
   ],
   "source": [
    "print(\"[0,0,1] = -1/3*[2,0,1] + 2/3*[1,0,2] = \"\n",
    "      +str(addn3(mult_vector_escalar((-1/3.),[2,0,1]),\n",
    "                 mult_vector_escalar((2/3.),[1,0,2]),\n",
    "                 mult_vector_escalar(0,[2,2,2]))))"
   ]
  },
  {
   "cell_type": "markdown",
   "metadata": {
    "collapsed": true
   },
   "source": [
    "# 5. Ejercicio:  \n",
    "* Si AB = AC, en general no es cierto que B = C.  \n",
    "\n",
    "<span style=\"color:blue\"> Ejercicio: Dadas las matrices $\n",
    "  A=\n",
    "  \\left[ {\\begin{array}{cc}\n",
    "   2 & -3 \\\\\n",
    "   -4 & 6\\\\\n",
    "  \\end{array} } \\right]\n",
    "$ , $\n",
    "  B=\n",
    "  \\left[ {\\begin{array}{cc}\n",
    "   8 & 4 \\\\\n",
    "   5 & 5\\\\\n",
    "  \\end{array} } \\right]\n",
    "$\n",
    "y $\n",
    "  C=\n",
    "  \\left[ {\\begin{array}{cc}\n",
    "   5 & -2 \\\\\n",
    "   3 & 1\\\\\n",
    "  \\end{array} } \\right]\n",
    "$, queremos verificar que AB=AC pero que B≠C.</style> "
   ]
  },
  {
   "cell_type": "code",
   "execution_count": 15,
   "metadata": {
    "collapsed": true
   },
   "outputs": [],
   "source": [
    "import numpy as np\n",
    "\n",
    "A=np.array([\n",
    "    [2,-3],\n",
    "    [-4,6]\n",
    "])\n",
    "\n",
    "B=np.array([\n",
    "    [8,4],\n",
    "    [5,5]\n",
    "])\n",
    "\n",
    "C=np.array([\n",
    "    [5,-2],\n",
    "    [3,1]\n",
    "])"
   ]
  },
  {
   "cell_type": "code",
   "execution_count": 16,
   "metadata": {},
   "outputs": [
    {
     "name": "stdout",
     "output_type": "stream",
     "text": [
      "AB es igual a:\n"
     ]
    },
    {
     "data": {
      "text/plain": [
       "array([[ 1, -7],\n",
       "       [-2, 14]])"
      ]
     },
     "execution_count": 16,
     "metadata": {},
     "output_type": "execute_result"
    }
   ],
   "source": [
    "print(\"AB es igual a:\")\n",
    "np.dot(A,B)"
   ]
  },
  {
   "cell_type": "code",
   "execution_count": 17,
   "metadata": {},
   "outputs": [
    {
     "name": "stdout",
     "output_type": "stream",
     "text": [
      "AC es igual a:\n"
     ]
    },
    {
     "data": {
      "text/plain": [
       "array([[ 1, -7],\n",
       "       [-2, 14]])"
      ]
     },
     "execution_count": 17,
     "metadata": {},
     "output_type": "execute_result"
    }
   ],
   "source": [
    "print(\"AC es igual a:\")\n",
    "np.dot(A,C)"
   ]
  },
  {
   "cell_type": "markdown",
   "metadata": {},
   "source": [
    "# 6. Ejercicio:  \n",
    "<span style=\"color:blue\"> Ejercicio: Dadas la matriz $\n",
    "  A=\n",
    "  \\left[ {\\begin{array}{cc}\n",
    "   3 & -6 \\\\\n",
    "   -1 & 2\\\\\n",
    "  \\end{array} } \\right]\n",
    "$ , construye una matriz B de 2 × 2 tal que AB sea igual a la matriz cero. Las columnas de B no deben ser iguales entre sí y deben ser distintas de cero.\n",
    ".</style> "
   ]
  },
  {
   "cell_type": "code",
   "execution_count": 18,
   "metadata": {
    "collapsed": true
   },
   "outputs": [],
   "source": [
    "import numpy as np\n",
    "\n",
    "A=np.array([\n",
    "    [3,-6],\n",
    "    [-1,2]\n",
    "])"
   ]
  },
  {
   "cell_type": "code",
   "execution_count": 19,
   "metadata": {},
   "outputs": [
    {
     "name": "stdout",
     "output_type": "stream",
     "text": [
      "tenemos las siguientes ecuaciones:\n",
      "3*B[0,0] - 6*B[1,0] = 0\n",
      "3*B[0,1] - 6*B[1,1] = 0\n",
      "-1*B[0,0] - 2*B[1,0] = 0\n",
      "-1*B[0,1] - 2*B[1,1] = 0\n"
     ]
    }
   ],
   "source": [
    "print(\"tenemos las siguientes ecuaciones:\")\n",
    "print(\"3*B[0,0] - 6*B[1,0] = 0\")\n",
    "print(\"3*B[0,1] - 6*B[1,1] = 0\")\n",
    "print(\"-1*B[0,0] - 2*B[1,0] = 0\")\n",
    "print(\"-1*B[0,1] - 2*B[1,1] = 0\")"
   ]
  },
  {
   "cell_type": "code",
   "execution_count": 20,
   "metadata": {},
   "outputs": [
    {
     "name": "stdout",
     "output_type": "stream",
     "text": [
      "nos vale cualquier matriz que cumpla que B[0,0]=2*B[1,0] y que B[0,1]=2*B[1,1]\n",
      "por ejemplo:\n"
     ]
    },
    {
     "data": {
      "text/plain": [
       "array([[2, 4],\n",
       "       [1, 2]])"
      ]
     },
     "execution_count": 20,
     "metadata": {},
     "output_type": "execute_result"
    }
   ],
   "source": [
    "print(\"nos vale cualquier matriz que cumpla que B[0,0]=2*B[1,0] y que B[0,1]=2*B[1,1]\")\n",
    "print(\"por ejemplo:\")\n",
    "\n",
    "B=np.array([\n",
    "    [2,4],\n",
    "    [1,2]   \n",
    "])\n",
    "B"
   ]
  },
  {
   "cell_type": "code",
   "execution_count": 21,
   "metadata": {},
   "outputs": [
    {
     "data": {
      "text/plain": [
       "array([[0, 0],\n",
       "       [0, 0]])"
      ]
     },
     "execution_count": 21,
     "metadata": {},
     "output_type": "execute_result"
    }
   ],
   "source": [
    "np.dot(A,B)"
   ]
  },
  {
   "cell_type": "markdown",
   "metadata": {},
   "source": [
    "# 7. Regla de Sarrus para el determinante de orden 3\n",
    "\n",
    "Sea A una matriz de orden 3, su determinante:\n",
    "$\\left| {\\begin{array}{cc}\n",
    "   a & b & c\\\\\n",
    "   d & e & f\\\\\n",
    "   g & h & i\\\\\n",
    "  \\end{array} } \\right|=aei+bfg+cdh-(ceg+bdi+afh)$\n",
    "<span style=\"color:orange\"> Ejemplo: Vamos a calcular el determinante de $\n",
    "  A=\n",
    "  \\left[ {\\begin{array}{cc}\n",
    "   1 & -4 & 2\\\\\n",
    "   -2 & 8 & -9\\\\\n",
    "   -1 & 7 & 0\\\\\n",
    "  \\end{array} } \\right]\n",
    "$ usando la ley de Sarrus.  \n",
    "detA=$1 \\cdot 8 \\cdot 0+(-2) \\cdot 7 \\cdot 2+(-1) \\cdot (-4) \\cdot (-9)-[(2 \\cdot 8 \\cdot (-1)+0 \\cdot (-2) \\cdot (-4)+1 \\cdot 7 \\cdot (-9)]=15$  </style>\n",
    "\n",
    "<span style=\"color:blue\">Ejercicio: ¿Cómo lo haríamos en Python?</style>"
   ]
  },
  {
   "cell_type": "code",
   "execution_count": 22,
   "metadata": {},
   "outputs": [
    {
     "data": {
      "text/plain": [
       "15"
      ]
     },
     "execution_count": 22,
     "metadata": {},
     "output_type": "execute_result"
    }
   ],
   "source": [
    "import numpy as np\n",
    "\n",
    "A=np.array([\n",
    "    [1,-4,2],\n",
    "    [-2,8,-9],\n",
    "    [-1,7,0]\n",
    "])\n",
    "\n",
    "detA=A[0,0]*A[1,1]*A[2,2]+A[0,1]*A[1,2]*A[2,0]+A[0,2]*A[1,0]*A[2,1]-(A[0,2]*A[1,1]*A[2,0]+A[0,1]*A[1,0]*A[2,2]+A[0,0]*A[1,2]*A[2,1])\n",
    "detA"
   ]
  },
  {
   "cell_type": "markdown",
   "metadata": {
    "collapsed": true
   },
   "source": [
    "# 8.<span style=\"color:blue\"> Ejercicio:  \n",
    "Sabemos que hay un modo directo en Python para calcular los rangos. Calcula el número de soluciones de estos tres sistemas de ecuaciones empleándolo.</style> "
   ]
  },
  {
   "cell_type": "markdown",
   "metadata": {},
   "source": [
    "> <span style=\"color:blue\">x<sub>1</sub> − 2x<sub>2</sub> + x<sub>3</sub> = 0 </style>  \n",
    "> <span style=\"color:blue\">2x<sub>2</sub>−8x<sub>3</sub>= 8  </style>  \n",
    "> <span style=\"color:blue\">−4x<sub>1</sub> + 5x<sub>2</sub> + 9x<sub>3</sub> =− 9</style>"
   ]
  },
  {
   "cell_type": "code",
   "execution_count": 23,
   "metadata": {},
   "outputs": [
    {
     "name": "stdout",
     "output_type": "stream",
     "text": [
      "El sistema tiene solucion\n",
      "SCD con 3 soluciones.\n"
     ]
    }
   ],
   "source": [
    "import numpy as np\n",
    "\n",
    "\n",
    "A=np.array([\n",
    "    [1,-2,1],\n",
    "    [0,2,-8],\n",
    "    [-4,5,9]\n",
    "])\n",
    "\n",
    "Aamp=np.array([\n",
    "    [1,-2,1,0],\n",
    "    [0,2,-8,8],\n",
    "    [-4,5,9,-9]\n",
    "])\n",
    "\n",
    "def sistema(matriz,matriz_ampliada):\n",
    "    if np.linalg.matrix_rank(matriz)==np.linalg.matrix_rank(matriz_ampliada):\n",
    "        print(\"El sistema tiene solucion\")\n",
    "        if np.linalg.matrix_rank(matriz)==len(matriz[0]):\n",
    "            print(\"SCD con \"+str(np.linalg.matrix_rank(matriz))+\" soluciones.\")\n",
    "        else:\n",
    "            print(\"SCI\")\n",
    "    else:\n",
    "        print(\"El sistema no tiene solucion\")\n",
    "        \n",
    "sistema(A,Aamp)"
   ]
  },
  {
   "cell_type": "markdown",
   "metadata": {},
   "source": [
    "> <span style=\"color:blue\">x<sub>2</sub> −4x<sub>3</sub> =8  </style>  \n",
    "> <span style=\"color:blue\">2x<sub>1</sub> −3x<sub>2</sub> + 2x<sub>3</sub> =1  </style>  \n",
    "> <span style=\"color:blue\">5x<sub>1</sub> −8x<sub>2</sub> + 7x<sub>3</sub> =1</style>"
   ]
  },
  {
   "cell_type": "code",
   "execution_count": 24,
   "metadata": {},
   "outputs": [
    {
     "name": "stdout",
     "output_type": "stream",
     "text": [
      "El sistema no tiene solucion\n"
     ]
    }
   ],
   "source": [
    "B=np.array([\n",
    "    [0,1,-4],\n",
    "    [2,-3,2],\n",
    "    [5,-8,7]\n",
    "])\n",
    "\n",
    "Bamp=np.array([\n",
    "    [0,1,-4,8],\n",
    "    [2,-3,2,1],\n",
    "    [5,-8,7,1]\n",
    "])\n",
    "\n",
    "sistema(B,Bamp)"
   ]
  },
  {
   "cell_type": "markdown",
   "metadata": {},
   "source": [
    "> <span style=\"color:blue\">x<sub>1</sub> +x<sub>3</sub> =2  </style>  \n",
    "> <span style=\"color:blue\">2x<sub>1</sub> +3x<sub>2</sub> + x<sub>3</sub> =3  </style>  \n",
    "> <span style=\"color:blue\">3x<sub>1</sub> +3x<sub>2</sub> + 2x<sub>3</sub> =5</style>"
   ]
  },
  {
   "cell_type": "code",
   "execution_count": 25,
   "metadata": {},
   "outputs": [
    {
     "name": "stdout",
     "output_type": "stream",
     "text": [
      "El sistema tiene solucion\n",
      "SCI\n"
     ]
    }
   ],
   "source": [
    "C=np.array([\n",
    "    [1,0,1],\n",
    "    [2,3,1],\n",
    "    [3,3,2]\n",
    "])\n",
    "\n",
    "Camp=np.array([\n",
    "    [1,0,1,2],\n",
    "    [2,3,1,3],\n",
    "    [3,3,2,5]\n",
    "])\n",
    "\n",
    "sistema(C,Camp)"
   ]
  },
  {
   "cell_type": "markdown",
   "metadata": {},
   "source": [
    "# 9. Función lineal  \n",
    "\n",
    "Dados $\\mathbb{V}$ y $\\mathbb{W}$, espacios vectoriales de $\\mathbb{F}.  \n",
    "Supongamos que una función f: \\mathbb{V}$ $\\longrightarrow$ $\\mathbb{W}$ satisface dos propiedades:  \n",
    "* Para cada vector v en V y cada escalar α en F, f (αv) = αf(v)  \n",
    "* Por cada dos vectores u y v en V, f (u + v) = f (u) + f (v)  \n",
    "\n",
    "Entonces llamamos a f **función lineal**.  \n",
    "\n",
    "<span style=\"color:blue\"> Ejercicio:  \n",
    "Comprobar que r(x,y) para un ángulo $\\theta$ es una función lineal.</style> "
   ]
  },
  {
   "cell_type": "markdown",
   "metadata": {},
   "source": [
    "   \n",
    "<span style=\"color:orange\"> Definimos r([x,y]) = función rotación $\\theta$º.  \n",
    "Sabemos que r([x , y ]) = M ∗ [x , y ] para alguna matriz M .</style>   \n",
    "> * <span style=\"color:orange\">Sabemos que r([1,0])=[cos$\\theta$,sin$\\theta$]  .</style>  \n",
    "> * <span style=\"color:orange\">Sabemos que r([0,1])=[-sen$\\theta$,cos$\\theta$]  .</style>  \n",
    "\n",
    "<span style=\"color:orange\">Por lo tanto:  \n",
    "$\n",
    "  M =\n",
    "  \\left[ {\\begin{array}{cc}\n",
    "   cos\\theta & -sin\\theta \\\\\n",
    "   sin\\theta & cos\\theta \\\\\n",
    "  \\end{array} } \\right]\n",
    "$</style> "
   ]
  },
  {
   "cell_type": "markdown",
   "metadata": {},
   "source": [
    "Primera condición: r(a*v) = a*r(v)\n",
    "\n",
    "v = (x,y); av = (ax,ay)\n",
    "\n",
    "r(v) = M*(x,y) = (xcosT - ysenT, xsenT + ysenT)\n",
    "\n",
    "r(av) = M*(ax,ay) = (axcosT - aysenT, axsenT + aysenT) = a(xcosT - ysenT, xsenT + ysenT)\n",
    "\n",
    "=> r(a*v) = a*r(v) Se cumple.\n",
    "\n",
    "Segunda condición: r(u+v) = r(u) + r(v)\n",
    "\n",
    "v = (x,y); u = (w,z)\n",
    "\n",
    "r(v) = M*(x,y) = (xcosT - ysenT, xsenT + ycosT)  \n",
    "r(u) = M*(w,z) = (wcosT - zsenT, wsenT + zcosT)\n",
    "\n",
    "r(u) + r(v) = (xcosT - ysenT + wcosT - zsenT, xsenT + ycosT + wsenT + zcosT)\n",
    "\n",
    "r(u+v) = M*(x+w,y+z) = (xcosT + wcosT - ysenT - zsenT, xsenT + wsenT + ycosT + zcosT)\n",
    "\n",
    "Se cumple.\n",
    "\n"
   ]
  },
  {
   "cell_type": "markdown",
   "metadata": {},
   "source": [
    "# 10. Representación de las coordenadas de un vector  \n",
    "\n",
    "La representación de las coordenadas del vector **v** en términos de a<sub>1</sub>,. . . , a<sub>n</sub> es el vector [α1, ..., αn] tal que  \n",
    "> **v** = α<sub>1</sub> a<sub>1</sub> + ... + α<sub>n</sub> a<sub>n</sub>  \n",
    "\n",
    "En este contexto, los coeficientes se llaman **coordenadas**.  \n",
    "\n",
    "<span style=\"color:orange\"> Ejemplo:  \n",
    "El vector v = [1, 3, 5, 3] es igual a 1[1,1,0,0]+2[0,1,1,0]+3[0,0,1,1].  \n",
    "Por tanto, la representación en coordenadas de v en términos de los vectores [1,1,0,0],[0,1,1,0],[0,0,1,1] es [1,2,3]. </style>   \n",
    "\n",
    "<span style=\"color:blue\"> Ejercicio:  \n",
    "¿Cuál es la representación coordenada del vector v= [6, 3, 2, 5] en términos de los vectores [2, 2, 2, 3], [1, 0, −1, 0], [0, 1, 0, 1]?</style> "
   ]
  },
  {
   "cell_type": "markdown",
   "metadata": {},
   "source": [
    "(6,3,2,5) = a*(2,2,2,3) + b*(1,0,-1,0) + c*(0,1,0,1)  \n",
    "\n",
    "6 = 2a + b  \n",
    "3 = 2a + c  \n",
    "2 = 2a -b  \n",
    "5 = 3a + c\n",
    "\n",
    "b = 2a - 2; 6 = 2a + 2a - 2; 4a = 8 => a = 2\n",
    "b = 2  \n",
    "c = -1\n",
    "\n",
    "las coordenadas de v en términos de los vectores dados son (2,2,-1)\n"
   ]
  },
  {
   "cell_type": "markdown",
   "metadata": {
    "collapsed": true
   },
   "source": [
    "# 11.<span style=\"color:blue\"> Ejercicio:  \n",
    "Supongamos que queremos diseñar la red de internet para el otro campus universitario.  \n",
    "La red debe lograr la misma conectividad que el grafo de entrada.  \n",
    "Una arista representa un posible cable.  \n",
    "El peso de la arista es el coste de instalar el cable.  \n",
    "Nuestro objetivo es minimizar el coste total, usando el algoritmo Grow y el algoritmo Shrink.  </style> "
   ]
  },
  {
   "cell_type": "markdown",
   "metadata": {},
   "source": [
    "![No se puede mostrar](https://encrypted-tbn0.gstatic.com/images?q=tbn:ANd9GcTFXlVv3ueokDdT65uKQHaV5zO2Ng1N3OJODJ2kxlF4CKp-f-8QPw) \n",
    "\n",
    "Pesos:\n",
    "\n",
    "Biomed-Pembroke Campus (2)  \n",
    "Pembroke Campus-Athletic Complex(7)  \n",
    "Biomed-Athletic complex (9)"
   ]
  },
  {
   "cell_type": "markdown",
   "metadata": {},
   "source": [
    "Resolviendo con el algoritmo grow:\n",
    "\n",
    "S=0\n",
    "\n",
    "Aristas en orden creciente:\n",
    "\n",
    "2,7,9  \n",
    "Biomed-Pembroke Campus (B-P), Pembroke Campus-Athletic Complex (P-A), Biomed-Athletic complex (B-A)  \n",
    "\n",
    "Añadimos a S la primera arista:\n",
    "\n",
    "S={(B-P)}\n",
    "\n",
    "Ya tenemos los nodos Biomed y Pembroke Campus, faltaría Athletic Complex.\n",
    "\n",
    "Añadimos la arista de menor peso que nos incorpora este último nodo (P-A).\n",
    "\n",
    "S queda finalmente de la siguiente manera:\n",
    "\n",
    "S={(B-P), (P-A)}"
   ]
  },
  {
   "cell_type": "markdown",
   "metadata": {
    "collapsed": true
   },
   "source": [
    "# 12.<span style=\"color:blue\"> Ejercicio:  \n",
    "Sea la matriz $\n",
    "  M=\n",
    "  \\left[ {\\begin{array}{cc}\n",
    "   1 & 0  & 0 & 5 \\\\\n",
    "   0 & 2  & 0 & 7 \\\\\n",
    "   0 & 0  & 3 & 9 \\\\\n",
    "  \\end{array} } \\right]\n",
    "$. Calcular el rango por filas y por columnas usando Python.</style> "
   ]
  },
  {
   "cell_type": "code",
   "execution_count": 26,
   "metadata": {},
   "outputs": [
    {
     "data": {
      "text/plain": [
       "3"
      ]
     },
     "execution_count": 26,
     "metadata": {},
     "output_type": "execute_result"
    }
   ],
   "source": [
    "import numpy as np\n",
    "\n",
    "M=np.matrix([\n",
    "    [1,0,0,5],\n",
    "    [0,2,0,7],\n",
    "    [0,0,3,9]\n",
    "])\n",
    "\n",
    "np.linalg.matrix_rank(M)"
   ]
  },
  {
   "cell_type": "code",
   "execution_count": 27,
   "metadata": {},
   "outputs": [
    {
     "data": {
      "text/plain": [
       "3"
      ]
     },
     "execution_count": 27,
     "metadata": {},
     "output_type": "execute_result"
    }
   ],
   "source": [
    "N=np.transpose(M)\n",
    "\n",
    "np.linalg.matrix_rank(N)"
   ]
  },
  {
   "cell_type": "markdown",
   "metadata": {
    "collapsed": true
   },
   "source": [
    "# 13. (Opcional) Algoritmo para transformar una matriz en una matriz escalonada  \n",
    "\n",
    "<span style=\"color:blue\"> Ejercicio 13 (opcional):  \n",
    "Crea un algoritmo que transforme una matriz cualquiera en GF(2) en una matriz escalonada.</style> "
   ]
  },
  {
   "cell_type": "code",
   "execution_count": 28,
   "metadata": {},
   "outputs": [
    {
     "data": {
      "text/plain": [
       "array([[1, 1, 0, 1, 0],\n",
       "       [0, 0, 0, 1, 0],\n",
       "       [0, 0, 0, 0, 1]])"
      ]
     },
     "execution_count": 28,
     "metadata": {},
     "output_type": "execute_result"
    }
   ],
   "source": [
    "import numpy as np\n",
    "\n",
    "def algoritmo_infernal(A):\n",
    "    for i in range(0,len(A)):  \n",
    "        for j in range(0,len(A[i])):\n",
    "            if i>0 and i >= j:\n",
    "                #A[i,j] en este punto son los elementos que hay que hacer 0\n",
    "                A[i,j]=0 #jejeje\n",
    "                    \n",
    "    return A\n",
    "\n",
    "\n",
    "\n",
    "A=np.array([\n",
    "    [1,1,0,1,0],\n",
    "    [1,0,0,1,0],\n",
    "    [0,1,1,0,1]\n",
    "])\n",
    "\n",
    "algoritmo_infernal(A)\n"
   ]
  },
  {
   "cell_type": "markdown",
   "metadata": {},
   "source": [
    "Me parece un problema muy complicado. Creo que el concepto sería más o menos así:\n",
    "\n",
    "*En primer lugar, comprobar si el elemento 1,1 (A[0,0]) es un 1 o un 0. Si es un 0 hay que cambiar esta fila por la primera fila cuyo primer elemento sea un 1 (A[i,0]==1).  \n",
    "\n",
    "*Luego habría que empezar un bucle por filas y columnas, supongo que valdría algo como lo que he definido arriba. El problema es que para cada elemento que hay que hacer 0 hay que sumar la fila con una fila superior que tenga un 1 en la misma columna y 0 en las anteriores.  \n",
    "\n",
    "*Por eso me parece muy dificil hacerlo para cualquier matriz. No sé si se me escapa algo pero no creo que sea capaz de conseguirlo sin dedicarle una enorme cantidad de tiempo de modo que lamentablemente te entrego esta chapucilla.  \n",
    "\n",
    "*Cuando publiques una solución la estudiaré con atención y seguramente me de de cabezazos contra la pared por no habérseme ocurrido, así son estas cosas!"
   ]
  },
  {
   "cell_type": "markdown",
   "metadata": {},
   "source": [
    "# 14.<span style=\"color:blue\"> Ejercicio 14:  \n",
    "Modificar lo necesario en los algoritmos para que funcionen y calculen el problema de la casa en llamas.</style>"
   ]
  },
  {
   "cell_type": "code",
   "execution_count": 29,
   "metadata": {},
   "outputs": [
    {
     "name": "stdout",
     "output_type": "stream",
     "text": [
      "La distancia es 3.16\n"
     ]
    }
   ],
   "source": [
    "import numpy as np\n",
    "import math\n",
    "\n",
    "def producto_vectorial(u,v):\n",
    "    return sum(u[i]*v[i] for i in range(len(u)))\n",
    "def mult_vector_escalar(alpha,v):\n",
    "    return [alpha*v[i] for i in range(len(v))]\n",
    "def resta_vectores(v,w):\n",
    "    return[v[i]-w[i] for i in range(len(v))]\n",
    "\n",
    "\n",
    "def proy_paralela(b,a):\n",
    "    if producto_vectorial(a,a) >10^(-20):\n",
    "        sigma=producto_vectorial(b,a)/producto_vectorial(a,a)\n",
    "    else:\n",
    "        sigma=0\n",
    "    return mult_vector_escalar(sigma,a)\n",
    "\n",
    "def proy_ortogonal(b,a):\n",
    "    return resta_vectores(b,proy_paralela(b,a))\n",
    "\n",
    "\n",
    "\n",
    "a=[6.,2.]\n",
    "\n",
    "b=[2.,4.]\n",
    "\n",
    "u=proy_paralela(b,a)\n",
    "v=proy_ortogonal(b,a)\n",
    "\n",
    "print(\"La distancia es \"+str(round(math.sqrt(producto_vectorial(v,v)),2)))"
   ]
  },
  {
   "cell_type": "markdown",
   "metadata": {},
   "source": [
    "# COMENTARIOS\n",
    "\n",
    "En general me quedo satisfecho con este módulo. Como ya comenté en la encuesta de estadística, el formato de ir siguiendo un notebook en clase me parece muy acertado y también de cara a hacer la práctica, que queda perfectamente estructurada y no hay duda respecto a lo que se pide.\n",
    "\n",
    "En cuanto a la asignatura, lo que es la parte matemática me ha parecido por lo general sencilla pero a cambio la parte de programación me ha permitido ver muchas cosas que no conocía así que para mi una cosa compensa la otra.\n",
    "\n",
    "En cuanto a la forma de dar las clases, pues como ya dije en el primer módulo se agradece mucho tu energía y que hagas las clases amenas. Aunque este módulo en concreto no he podido asistir a todas las clases en directo, es algo fundamental al dar una clase tan larga y en horario nocturno. También se nota que pones todo el empeño posible en contestar todas las dudas que surjan y en que todo el mundo quede satisfecho antes de pasar de uno a otro punto. Todo eso lo notamos desde casa aunque no hablemos mucho!\n",
    "\n"
   ]
  },
  {
   "cell_type": "code",
   "execution_count": null,
   "metadata": {
    "collapsed": true
   },
   "outputs": [],
   "source": []
  }
 ],
 "metadata": {
  "kernelspec": {
   "display_name": "Python 2",
   "language": "python",
   "name": "python2"
  },
  "language_info": {
   "codemirror_mode": {
    "name": "ipython",
    "version": 2
   },
   "file_extension": ".py",
   "mimetype": "text/x-python",
   "name": "python",
   "nbconvert_exporter": "python",
   "pygments_lexer": "ipython2",
   "version": "2.7.14"
  }
 },
 "nbformat": 4,
 "nbformat_minor": 2
}
